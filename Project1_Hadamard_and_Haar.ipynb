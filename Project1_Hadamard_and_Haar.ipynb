{
  "nbformat": 4,
  "nbformat_minor": 0,
  "metadata": {
    "colab": {
      "name": "Project1_Hadamard_and_Haar.ipynb",
      "provenance": [],
      "authorship_tag": "ABX9TyOnf6oKbVI+JMjCwPn7VmzQ",
      "include_colab_link": true
    },
    "kernelspec": {
      "name": "python3",
      "display_name": "Python 3"
    }
  },
  "cells": [
    {
      "cell_type": "markdown",
      "metadata": {
        "id": "view-in-github",
        "colab_type": "text"
      },
      "source": [
        "<a href=\"https://colab.research.google.com/github/jaanita/planets/blob/master/Project1_Hadamard_and_Haar.ipynb\" target=\"_parent\"><img src=\"https://colab.research.google.com/assets/colab-badge.svg\" alt=\"Open In Colab\"/></a>"
      ]
    },
    {
      "cell_type": "code",
      "metadata": {
        "id": "UYrHrBHO2KJw"
      },
      "source": [
        "import scipy.io as sc\n",
        "from scipy import signal\n",
        "import numpy as np\n",
        "import math\n",
        "import matplotlib\n",
        "import matplotlib.image as im\n",
        "import matplotlib.pyplot as plt\n",
        "import time\n",
        "import struct\n",
        "from sklearn.metrics.pairwise import  cosine_similarity"
      ],
      "execution_count": null,
      "outputs": []
    },
    {
      "cell_type": "code",
      "metadata": {
        "id": "3DVDZaYqxwR2"
      },
      "source": [
        "# image = [] #get from matlab(?)\n",
        "# had_trans_image = np.zeros(image.shape) \n",
        "# N,M,p = image.shape #must be square image N = M"
      ],
      "execution_count": null,
      "outputs": []
    },
    {
      "cell_type": "code",
      "metadata": {
        "id": "Bk5x51au2UjA",
        "outputId": "2129cc45-77b9-4867-c664-ae8d5e0bc34b",
        "colab": {
          "base_uri": "https://localhost:8080/",
          "height": 50
        }
      },
      "source": [
        "#HADAMARD TRANSFORM\n",
        "\n",
        "\n",
        "image = np.array([[1,7],[3,3]]) #test matrix\n",
        "# print(image)\n",
        "\n",
        "N = 2 #test dimension\n",
        "\n",
        "Hd = np.zeros((N,N))\n",
        "\n",
        "scalar = 2 ** (-math.log(N,2)/2) #to make it orthonormal (magnitude of each basis vector is 1)\n",
        "\n",
        "#fill in Hadamard with (scaled) 1's or -1's\n",
        "for i in range(0,len(Hd)):\n",
        "  for j in range(0,len(Hd)):\n",
        "    if (bin(i&j).count(\"1\")%2==0): #sum of bitwise and between i and j\n",
        "      Hd[i,j] = scalar #1*magnitude (even exponent)\n",
        "    else:\n",
        "      Hd[i,j] = -scalar #-1*magnitude (odd exponent)\n",
        "\n",
        "\n",
        "# print(H)\n",
        "\n",
        "#Matrix multiplication to change the basis to Hadamard\n",
        "\n",
        "had_trans_image = np.matmul(Hd, image)\n",
        "\n",
        "# print(had_trans_image)\n",
        "\n",
        "#thresholding each element in matrix of Hadamard basis\n",
        "\n",
        "t = 0 #threshold value\n",
        "\n",
        "thresholded_had = had_trans_image\n",
        "thresholded_had[abs(thresholded_had)<t] = 0.0\n",
        "\n",
        "#inverse Hadamard which is same forward and backward because it is unitary (transpose is itself)\n",
        "\n",
        "denoised_had_image = np.matmul(Hd, thresholded_had)\n",
        "\n",
        "#image needs to be int values\n",
        "#add 0.5 to float values so that when int-ing them they are rounded correctly, not truncated\n",
        "\n",
        "denoised_had_image[:] += 0.5\n",
        "denoised_had_image = denoised_had_image.astype(int)\n",
        "\n",
        "print(denoised_had_image)\n",
        "\n",
        "\n",
        "      \n",
        "# plt.imshow(denoised_had_image, interpolation='nearest', cmap='gray')\n",
        "# plt.title('Denoised Hadamard Image')\n",
        "# plt.show()"
      ],
      "execution_count": null,
      "outputs": [
        {
          "output_type": "stream",
          "text": [
            "[[1 7]\n",
            " [3 3]]\n"
          ],
          "name": "stdout"
        }
      ]
    },
    {
      "cell_type": "code",
      "metadata": {
        "id": "banZD3z5sg0m",
        "outputId": "d49f22e1-1bd9-42fb-c699-0c7d6174f23a",
        "colab": {
          "base_uri": "https://localhost:8080/",
          "height": 50
        }
      },
      "source": [
        "#HADAMARD BLOCK TRANSFORM\n",
        "\n",
        "N = 2 #dimension of block\n",
        "\n",
        "HdB = np.zeros((N,N))\n",
        "\n",
        "scalar = 2 ** (-math.log(N,2)/2) #to make it orthonormal (magnitude of each basis vector is 1)\n",
        "\n",
        "#fill in Hadamard with (scaled) 1's or -1's\n",
        "for i in range(0,len(HdB)):\n",
        "  for j in range(0,len(HdB)):\n",
        "    if (bin(i&j).count(\"1\")%2==0): #sum of bitwise and between i and j\n",
        "      HdB[i,j] = scalar #1*magnitude (even exponent)\n",
        "    else:\n",
        "      HdB[i,j] = -scalar #-1*magnitude (odd exponent)\n",
        "\n",
        "had_trans_BLOCK_image = np.zeros(image.shape)\n",
        "\n",
        "#Matrix multiplication on each block to change the basis to Hadamard\n",
        "\n",
        "for i in range(0,image.shape[0]-N+1,N): #for each row in image, skipping by Ns\n",
        "    for j in range(0, image.shape[1]-N+1,N): #for each column in image, skipping by Ns\n",
        "        had_trans_BLOCK_image[i:i+N,j:j+N] = np.matmul(HdB,image) \n",
        "\n",
        "#thresholding each element in matrix block of Hadamard basis\n",
        "\n",
        "tb = 0 #threshold value\n",
        "\n",
        "thresholded_had_BLOCK = had_trans_BLOCK_image\n",
        "thresholded_had_BLOCK[abs(thresholded_had_BLOCK)<tb] = 0.0\n",
        "\n",
        "denoised_had_BLOCK_image = np.zeros(image.shape)\n",
        "\n",
        "#inverse Hadamard for each block\n",
        "\n",
        "for i in range(0,image.shape[0]-N+1,N): #for each row in image, skipping by Ns\n",
        "    for j in range(0, image.shape[1]-N+1,N): #for each column in image, skipping by Ns\n",
        "        denoised_had_BLOCK_image[i:i+N,j:j+N] = np.matmul(HdB,thresholded_had_BLOCK) \n",
        "\n",
        "#add 0.5 to float values so that when int-ing them they are rounded correctly, not truncated\n",
        "\n",
        "denoised_had_BLOCK_image[:] += 0.5\n",
        "denoised_had_BLOCK_image = denoised_had_BLOCK_image.astype(int)\n",
        "\n",
        "print(denoised_had_BLOCK_image)\n",
        "\n",
        "# plt.imshow(denoised_had_image, interpolation='nearest', cmap='gray')\n",
        "# plt.title('Denoised Hadamard Image')\n",
        "# plt.show()\n"
      ],
      "execution_count": null,
      "outputs": [
        {
          "output_type": "stream",
          "text": [
            "[[1 7]\n",
            " [3 3]]\n"
          ],
          "name": "stdout"
        }
      ]
    },
    {
      "cell_type": "code",
      "metadata": {
        "id": "oLHvR0enx6I7",
        "outputId": "053ea38f-dc08-48d8-ed37-f8b4bc36908f",
        "colab": {
          "base_uri": "https://localhost:8080/",
          "height": 82
        }
      },
      "source": [
        "#HAAR TRANSFORM\n",
        "\n",
        "#some sort of recursive looping(?)\n",
        "\n",
        "N = 2 #test dimension\n",
        "\n",
        "Hr = np.zeros((N,N)) #haar matrix to fill in\n",
        "\n",
        "#first row is all ones\n",
        "for p in range(N):\n",
        "  Hr[0,p] = 1/(math.sqrt(N)) #normalized top row\n",
        "\n",
        "j = 1 #j is the max row number with the same pattern just shifted so for 8 point haar \n",
        "      #j = 1 for 1111 -1-1-1-1 (since theres only one row of that) and \n",
        "      #j = 2 for 11 -1-1 (since next two rows are that pattern)\n",
        "      #j = 4 for the 1 -1 (since the last 4 rows are that pattern) \n",
        "\n",
        "count = 0 #need to raise 2 to the power of count to get next j for next pattern 1,2,4,8....(see above)\n",
        "\n",
        "row = 1 #start at second row\n",
        "\n",
        "#when normalixing i know each scaling depends on what my length is of the pattern so whatever it is \n",
        "#the magnitude is square root of that because they are all ones squared like sqrt(1^2 + (-1)^2 + ... length times)\n",
        "\n",
        "while (j < N): #j should be less than N \n",
        "  length = N/(2**count) #length of 11..-1-1.. for each row, it is current j (row max) minus previous j (last row) divided from N\n",
        "  scale = 1/(math.sqrt(length)) #normalized, divide by magnitude of each pattern (same for each j) (see above)\n",
        "  i = 0 #column number, set to 0 every time new j for new pattern is created\n",
        "  while (row <= j):   #go through row max\n",
        "    for k in range(int(length/2)): #only need to go halfway length filling columns i with ones (scaled) because...\n",
        "      Hr[row,i] = 1*scale\n",
        "      Hr[row,int(i+length/2)] = -1*scale #...-1 (scaled) is always the other half, a unit of half total length apart\n",
        "      i+=1 #next column\n",
        "    i+=int(length/2) #when going to next row, we only made i go through half the length but the col indices we covered\n",
        "                     #went to the full length, so add that when moving on\n",
        "    row+=1  #next row\n",
        "  count+=1  #next pattern\n",
        "  j += (2 ** count) #increase j up til the height the next pattern is covered\n",
        "\n",
        "#print(Hr)\n",
        "\n",
        "# check if orthonormal\n",
        "# isidentity = np.matmul(Hr, np.transpose(Hr))\n",
        "# print(isidentity)\n",
        "\n",
        "#Matrix multiplication to change the basis to Haar\n",
        "\n",
        "hr_trans_image = np.matmul(Hr, image)\n",
        "\n",
        "print(hr_trans_image)\n",
        "\n",
        "#thresholding each element in matrix of Haar basis\n",
        "\n",
        "tr = 0 #threshold value\n",
        "\n",
        "thresholded_hr = hr_trans_image\n",
        "thresholded_hr[abs(thresholded_hr)<tr] = 0.0\n",
        "\n",
        "\n",
        "#inverse Haar which is the Haar transpose matrix\n",
        "\n",
        "denoised_hr_image = np.matmul(np.transpose(Hr), thresholded_hr)\n",
        "\n",
        "#image needs to be int values\n",
        "#add 0.5 to float values so that when int-ing them they are rounded correctly, not truncated\n",
        "\n",
        "denoised_hr_image[:] += 0.5\n",
        "\n",
        "denoised_hr_image = denoised_hr_image.astype('int') \n",
        "\n",
        "print(denoised_hr_image)\n",
        "\n",
        "\n"
      ],
      "execution_count": null,
      "outputs": [
        {
          "output_type": "stream",
          "text": [
            "[[ 2.82842712  7.07106781]\n",
            " [-1.41421356  2.82842712]]\n",
            "[[1 7]\n",
            " [3 3]]\n"
          ],
          "name": "stdout"
        }
      ]
    },
    {
      "cell_type": "code",
      "metadata": {
        "id": "BF6qrXAYNfHD"
      },
      "source": [
        ""
      ],
      "execution_count": null,
      "outputs": []
    }
  ]
}